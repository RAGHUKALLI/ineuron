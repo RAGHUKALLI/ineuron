{
  "nbformat": 4,
  "nbformat_minor": 0,
  "metadata": {
    "colab": {
      "name": "Day3_LetsUpgradePython.ipynb",
      "provenance": [],
      "collapsed_sections": [],
      "authorship_tag": "ABX9TyOZbdNnLKNfjxqSiy/wu0De",
      "include_colab_link": true
    },
    "kernelspec": {
      "name": "python3",
      "display_name": "Python 3"
    }
  },
  "cells": [
    {
      "cell_type": "markdown",
      "metadata": {
        "id": "view-in-github",
        "colab_type": "text"
      },
      "source": [
        "<a href=\"https://colab.research.google.com/github/RAGHUKALLI/ineuron/blob/master/Day3_LetsUpgradePython.ipynb\" target=\"_parent\"><img src=\"https://colab.research.google.com/assets/colab-badge.svg\" alt=\"Open In Colab\"/></a>"
      ]
    },
    {
      "cell_type": "markdown",
      "metadata": {
        "id": "yx1HH1y2md_n",
        "colab_type": "text"
      },
      "source": [
        "Assignment 1 : Sum of n numbers with help of while loop"
      ]
    },
    {
      "cell_type": "code",
      "metadata": {
        "id": "Hihq-ndBrdXE",
        "colab_type": "code",
        "colab": {
          "base_uri": "https://localhost:8080/",
          "height": 102
        },
        "outputId": "7f9c2893-cfd7-4a23-921d-6eab49d933f3"
      },
      "source": [
        "lstno=int(input(\"Enter how many numbers sum you want: \"))\n",
        "sumn=0\n",
        "i=0\n",
        "\n",
        "while i<lstno:\n",
        "  numb=int(input(\"Enter the number: \"))\n",
        "  sumn=sumn+numb\n",
        "  i=i+1\n",
        "  \n",
        "print(\"The sum of numbers is : \",sumn)"
      ],
      "execution_count": 97,
      "outputs": [
        {
          "output_type": "stream",
          "text": [
            "Enter how many numbers sum you want: 3\n",
            "Enter the number: 1\n",
            "Enter the number: 2\n",
            "Enter the number: 4\n",
            "The sum of numbers is :  7\n"
          ],
          "name": "stdout"
        }
      ]
    },
    {
      "cell_type": "markdown",
      "metadata": {
        "id": "BOveaaFJtwal",
        "colab_type": "text"
      },
      "source": [
        "Assignment 2 : Take an integer and find whether prime or not"
      ]
    },
    {
      "cell_type": "code",
      "metadata": {
        "id": "knI9zJbG6zWy",
        "colab_type": "code",
        "colab": {
          "base_uri": "https://localhost:8080/",
          "height": 51
        },
        "outputId": "052ff5b4-a3d1-4a74-e3af-e23b5afdf908"
      },
      "source": [
        "#A positive integer greater than 1 which does not have \n",
        "#other factors except 1 and the number itself is called a prime number.\n",
        "number = int(input(\"Enter the number: \"))\n",
        "if number>1:\n",
        "  for i in range(2, number):\n",
        "    if (number % i) == 0:\n",
        "      print(number, \"is not a prime number\")\n",
        "      break\n",
        "  else:\n",
        "    print(number, \"is a prime number\")\n",
        "elif number==1 or number==0:\n",
        "  print(number,\"is not a prime number\")\n",
        "else:\n",
        "  print(number, \"is negative integer and hence not a prime number\")"
      ],
      "execution_count": 130,
      "outputs": [
        {
          "output_type": "stream",
          "text": [
            "Enter the number: 11\n",
            "11 is a prime number\n"
          ],
          "name": "stdout"
        }
      ]
    }
  ]
}